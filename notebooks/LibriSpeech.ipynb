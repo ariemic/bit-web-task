{
  "cells": [
    {
      "cell_type": "markdown",
      "metadata": {
        "id": "v5hvo8QWN-a9"
      },
      "source": [
        "# Installing Whisper\n",
        "\n",
        "The commands below will install the Python packages needed to use Whisper models and evaluate the transcription results."
      ]
    },
    {
      "cell_type": "code",
      "execution_count": 2,
      "metadata": {
        "id": "ZsJUxc0aRsAf",
        "colab": {
          "base_uri": "https://localhost:8080/"
        },
        "outputId": "27584a81-4b54-415b-94be-e1f294d494a1"
      },
      "outputs": [
        {
          "output_type": "stream",
          "name": "stdout",
          "text": [
            "Collecting git+https://github.com/openai/whisper.git\n",
            "  Cloning https://github.com/openai/whisper.git to /tmp/pip-req-build-vapr3z7l\n",
            "  Running command git clone --filter=blob:none --quiet https://github.com/openai/whisper.git /tmp/pip-req-build-vapr3z7l\n",
            "  Resolved https://github.com/openai/whisper.git to commit 517a43ecd132a2089d85f4ebc044728a71d49f6e\n",
            "  Installing build dependencies ... \u001b[?25l\u001b[?25hdone\n",
            "  Getting requirements to build wheel ... \u001b[?25l\u001b[?25hdone\n",
            "  Preparing metadata (pyproject.toml) ... \u001b[?25l\u001b[?25hdone\n",
            "Requirement already satisfied: more-itertools in /usr/local/lib/python3.11/dist-packages (from openai-whisper==20240930) (10.6.0)\n",
            "Requirement already satisfied: numba in /usr/local/lib/python3.11/dist-packages (from openai-whisper==20240930) (0.60.0)\n",
            "Requirement already satisfied: numpy in /usr/local/lib/python3.11/dist-packages (from openai-whisper==20240930) (2.0.2)\n",
            "Requirement already satisfied: tiktoken in /usr/local/lib/python3.11/dist-packages (from openai-whisper==20240930) (0.9.0)\n",
            "Requirement already satisfied: torch in /usr/local/lib/python3.11/dist-packages (from openai-whisper==20240930) (2.6.0+cu124)\n",
            "Requirement already satisfied: tqdm in /usr/local/lib/python3.11/dist-packages (from openai-whisper==20240930) (4.67.1)\n",
            "Requirement already satisfied: triton>=2 in /usr/local/lib/python3.11/dist-packages (from openai-whisper==20240930) (3.2.0)\n",
            "Requirement already satisfied: llvmlite<0.44,>=0.43.0dev0 in /usr/local/lib/python3.11/dist-packages (from numba->openai-whisper==20240930) (0.43.0)\n",
            "Requirement already satisfied: regex>=2022.1.18 in /usr/local/lib/python3.11/dist-packages (from tiktoken->openai-whisper==20240930) (2024.11.6)\n",
            "Requirement already satisfied: requests>=2.26.0 in /usr/local/lib/python3.11/dist-packages (from tiktoken->openai-whisper==20240930) (2.32.3)\n",
            "Requirement already satisfied: filelock in /usr/local/lib/python3.11/dist-packages (from torch->openai-whisper==20240930) (3.18.0)\n",
            "Requirement already satisfied: typing-extensions>=4.10.0 in /usr/local/lib/python3.11/dist-packages (from torch->openai-whisper==20240930) (4.13.0)\n",
            "Requirement already satisfied: networkx in /usr/local/lib/python3.11/dist-packages (from torch->openai-whisper==20240930) (3.4.2)\n",
            "Requirement already satisfied: jinja2 in /usr/local/lib/python3.11/dist-packages (from torch->openai-whisper==20240930) (3.1.6)\n",
            "Requirement already satisfied: fsspec in /usr/local/lib/python3.11/dist-packages (from torch->openai-whisper==20240930) (2025.3.0)\n",
            "Requirement already satisfied: nvidia-cuda-nvrtc-cu12==12.4.127 in /usr/local/lib/python3.11/dist-packages (from torch->openai-whisper==20240930) (12.4.127)\n",
            "Requirement already satisfied: nvidia-cuda-runtime-cu12==12.4.127 in /usr/local/lib/python3.11/dist-packages (from torch->openai-whisper==20240930) (12.4.127)\n",
            "Requirement already satisfied: nvidia-cuda-cupti-cu12==12.4.127 in /usr/local/lib/python3.11/dist-packages (from torch->openai-whisper==20240930) (12.4.127)\n",
            "Requirement already satisfied: nvidia-cudnn-cu12==9.1.0.70 in /usr/local/lib/python3.11/dist-packages (from torch->openai-whisper==20240930) (9.1.0.70)\n",
            "Requirement already satisfied: nvidia-cublas-cu12==12.4.5.8 in /usr/local/lib/python3.11/dist-packages (from torch->openai-whisper==20240930) (12.4.5.8)\n",
            "Requirement already satisfied: nvidia-cufft-cu12==11.2.1.3 in /usr/local/lib/python3.11/dist-packages (from torch->openai-whisper==20240930) (11.2.1.3)\n",
            "Requirement already satisfied: nvidia-curand-cu12==10.3.5.147 in /usr/local/lib/python3.11/dist-packages (from torch->openai-whisper==20240930) (10.3.5.147)\n",
            "Requirement already satisfied: nvidia-cusolver-cu12==11.6.1.9 in /usr/local/lib/python3.11/dist-packages (from torch->openai-whisper==20240930) (11.6.1.9)\n",
            "Requirement already satisfied: nvidia-cusparse-cu12==12.3.1.170 in /usr/local/lib/python3.11/dist-packages (from torch->openai-whisper==20240930) (12.3.1.170)\n",
            "Requirement already satisfied: nvidia-cusparselt-cu12==0.6.2 in /usr/local/lib/python3.11/dist-packages (from torch->openai-whisper==20240930) (0.6.2)\n",
            "Requirement already satisfied: nvidia-nccl-cu12==2.21.5 in /usr/local/lib/python3.11/dist-packages (from torch->openai-whisper==20240930) (2.21.5)\n",
            "Requirement already satisfied: nvidia-nvtx-cu12==12.4.127 in /usr/local/lib/python3.11/dist-packages (from torch->openai-whisper==20240930) (12.4.127)\n",
            "Requirement already satisfied: nvidia-nvjitlink-cu12==12.4.127 in /usr/local/lib/python3.11/dist-packages (from torch->openai-whisper==20240930) (12.4.127)\n",
            "Requirement already satisfied: sympy==1.13.1 in /usr/local/lib/python3.11/dist-packages (from torch->openai-whisper==20240930) (1.13.1)\n",
            "Requirement already satisfied: mpmath<1.4,>=1.1.0 in /usr/local/lib/python3.11/dist-packages (from sympy==1.13.1->torch->openai-whisper==20240930) (1.3.0)\n",
            "Requirement already satisfied: charset-normalizer<4,>=2 in /usr/local/lib/python3.11/dist-packages (from requests>=2.26.0->tiktoken->openai-whisper==20240930) (3.4.1)\n",
            "Requirement already satisfied: idna<4,>=2.5 in /usr/local/lib/python3.11/dist-packages (from requests>=2.26.0->tiktoken->openai-whisper==20240930) (3.10)\n",
            "Requirement already satisfied: urllib3<3,>=1.21.1 in /usr/local/lib/python3.11/dist-packages (from requests>=2.26.0->tiktoken->openai-whisper==20240930) (2.3.0)\n",
            "Requirement already satisfied: certifi>=2017.4.17 in /usr/local/lib/python3.11/dist-packages (from requests>=2.26.0->tiktoken->openai-whisper==20240930) (2025.1.31)\n",
            "Requirement already satisfied: MarkupSafe>=2.0 in /usr/local/lib/python3.11/dist-packages (from jinja2->torch->openai-whisper==20240930) (3.0.2)\n",
            "Requirement already satisfied: jiwer in /usr/local/lib/python3.11/dist-packages (3.1.0)\n",
            "Requirement already satisfied: click>=8.1.8 in /usr/local/lib/python3.11/dist-packages (from jiwer) (8.1.8)\n",
            "Requirement already satisfied: rapidfuzz>=3.9.7 in /usr/local/lib/python3.11/dist-packages (from jiwer) (3.12.2)\n"
          ]
        }
      ],
      "source": [
        "! pip install git+https://github.com/openai/whisper.git\n",
        "! pip install jiwer"
      ]
    },
    {
      "cell_type": "markdown",
      "source": [
        "chat code"
      ],
      "metadata": {
        "id": "-mLyGbtq3raE"
      }
    },
    {
      "cell_type": "code",
      "source": [
        "# First, upload your MP3 file to Colab\n",
        "import torch\n",
        "import whisper\n",
        "import pandas as pd\n",
        "import jiwer\n",
        "from whisper.normalizers import EnglishTextNormalizer\n",
        "from tqdm import tqdm\n",
        "\n",
        "# Get the uploaded filename\n",
        "# mp3_file = \"sample_data/fireworks.mp3\"\n",
        "mp3_file = \"sample_data/can-you-feel.mp3\"\n",
        "# Custom Audio Dataset Class for your MP3\n",
        "class CustomAudioDataset(torch.utils.data.Dataset):\n",
        "    def __init__(self, audio_path, device=\"cuda\"):\n",
        "        self.audio_path = audio_path\n",
        "        self.device = device\n",
        "\n",
        "        # Load and preprocess audio\n",
        "        audio = whisper.load_audio(audio_path)\n",
        "        audio_tensor = torch.from_numpy(whisper.pad_or_trim(audio)).float().to(device)\n",
        "        self.audio = audio_tensor\n",
        "        self.mel = whisper.log_mel_spectrogram(audio_tensor)\n",
        "\n",
        "    def __len__(self):\n",
        "        return 1  # Only one audio file\n",
        "\n",
        "    def __getitem__(self, index):\n",
        "        return self.mel, \"\"  # Return empty string as reference text\n",
        "\n",
        "# Create dataset and loader for your MP3\n",
        "custom_dataset = CustomAudioDataset(mp3_file)\n",
        "loader = torch.utils.data.DataLoader(custom_dataset, batch_size=1)\n",
        "\n",
        "# Load model (using base.en for English)\n",
        "model = whisper.load_model(\"medium.en\")\n",
        "\n",
        "# Modified processing loop for custom audio\n",
        "hypotheses = []\n",
        "references = []\n",
        "\n",
        "for mels, texts in loader:\n",
        "    # Decode with timestamps enabled\n",
        "    options = whisper.DecodingOptions(language=\"en\", without_timestamps=torch._functionalize_set_storage_changed)\n",
        "    results = model.decode(mels, options)\n",
        "\n",
        "    hypotheses.extend([result.text for result in results])\n",
        "    references.extend(texts)  # Will be empty strings\n",
        "\n",
        "# Show full transcription with timestamps\n",
        "print(\"Full Transcription:\")\n",
        "print(hypotheses[0])\n",
        "\n",
        "# For detailed word-level timestamps, use transcribe() instead:\n",
        "result = model.transcribe(mp3_file)\n",
        "for segment in result[\"segments\"]:\n",
        "    print(f\"[{segment['start']:.2f}s - {segment['end']:.2f}s] {segment['text']}\")"
      ],
      "metadata": {
        "colab": {
          "base_uri": "https://localhost:8080/"
        },
        "id": "teP1xhLT29cb",
        "outputId": "1f8fdfcb-77d2-43ed-a551-f0880e0eba25"
      },
      "execution_count": 8,
      "outputs": [
        {
          "output_type": "stream",
          "name": "stderr",
          "text": [
            "100%|█████████████████████████████████████| 1.42G/1.42G [00:24<00:00, 62.4MiB/s]\n"
          ]
        },
        {
          "output_type": "stream",
          "name": "stdout",
          "text": [
            "Full Transcription:\n",
            "Hit, hit, hit, hit, hit, hit, hit, hit, hit, hit, hit, hit, hit, hit, hit, hit, hit, hit, hit, hit, hit, hit, hit, hit, hit, hit, hit, hit, hit, hit, hit, hit, hit, hit, hit, hit, hit, hit, hit, hit, hit, hit, hit, hit, hit, hit, hit, hit, hit, hit, hit, hit, hit, hit, hit, hit, hit, hit, hit, hit, hit, hit, hit, hit, hit, hit, hit, hit, hit, hit, hit, hit, hit, hit, hit, hit, hit, hit, hit, hit, hit, hit, hit, hit, hit, hit, hit, hit, hit, hit, hit, hit, hit, hit, hit, hit, hit, hit, hit, hit, hit, hit, hit, hit, hit, hit, hit, hit, hit, hit, hit, hit,\n",
            "[30.00s - 48.00s]  Can you hear the silence? Can you see the dark? Can you fix the broken? Can you feel, can you feel the heart?\n",
            "[60.00s - 74.00s]  Can you help the hopeless? Will I beg it on my knees? Can you save my bastard soul? Will you wait for me?\n",
            "[75.00s - 82.00s]  I'm sorry brother, so sorry lover, forgive me father, I love you mother\n",
            "[83.00s - 93.00s]  Can you hear the silence? Can you see the dark? Can you fix the broken? Can you feel my heart?\n",
            "[96.00s - 100.00s]  Can you feel my heart?\n",
            "[104.00s - 108.00s]  Can you feel my heart?\n",
            "[119.00s - 122.00s]  Can you feel my heart?\n",
            "[135.00s - 150.00s]  I'm scared to get close and I hate being alone I long for that feeling to not feel at all The higher I get, the lower I'll sink I can't drown my demons, they know how to swim\n",
            "[151.00s - 165.00s]  I'm scared to get close and I hate being alone I long for that feeling to not feel at all The higher I get, the lower I'll sink I can't drown my demons, they know how to swim\n",
            "[165.00s - 180.00s]  I'm scared to get close and I hate being alone I long for that feeling to not feel at all The higher I get, the lower I'll sink I can't drown my demons, they know how to swim\n",
            "[195.00s - 216.00s]  Can you feel my heart? Can you hear the silence? Can you see the dark? Can you fix the broken? Can you feel my heart?\n",
            "[225.00s - 231.00s]  Thank you for watching!\n"
          ]
        }
      ]
    },
    {
      "cell_type": "code",
      "source": [
        "import torch\n",
        "import whisper\n",
        "import pandas as pd\n",
        "import jiwer\n",
        "from tqdm import tqdm\n",
        "import re\n",
        "\n",
        "# Custom normalizer for Polish text\n",
        "class PolishTextNormalizer:\n",
        "    def __init__(self):\n",
        "        self.replacements = [\n",
        "            (r'[.,!?;:()„”\"«»—\\-–]', ''),  # Remove punctuation\n",
        "            (r'\\s+', ' '),  # Multiple whitespace to single\n",
        "        ]\n",
        "\n",
        "    def __call__(self, text):\n",
        "        text = text.lower()\n",
        "        for pattern, replacement in self.replacements:\n",
        "            text = re.sub(pattern, replacement, text)\n",
        "        text = text.strip()\n",
        "        return text\n",
        "\n",
        "# First, upload your files\n",
        "mp3_file = \"sample_data/7dam.mp3\"\n",
        "\n",
        "\n",
        "# Load multilingual model\n",
        "device = \"cuda\" if torch.cuda.is_available() else \"cpu\"\n",
        "model = whisper.load_model(\"medium\", device=device)  # Medium model supports Polish better\n",
        "\n",
        "# Transcribe with Polish settings\n",
        "result = model.transcribe(\n",
        "    mp3_file,\n",
        "    language=\"pl\",  # Explicitly set to Polish\n",
        "    task=\"transcribe\",\n",
        "    word_timestamps=True,\n",
        "    beam_size=5,\n",
        "    fp16=torch.cuda.is_available()\n",
        ")\n",
        "\n",
        "\n",
        "\n",
        "# Prepare hypotheses and references\n",
        "hypotheses = [seg['text'].strip() for seg in result['segments']]\n",
        "# references = original_lyrics[:len(hypotheses)]\n",
        "\n",
        "# Normalize text\n",
        "normalizer = PolishTextNormalizer()\n",
        "data = pd.DataFrame({\n",
        "    'hypothesis': hypotheses\n",
        "})\n",
        "\n",
        "# Handle potential NaN values\n",
        "data = data.fillna('')\n",
        "\n",
        "# Apply normalization\n",
        "data[\"hypothesis_clean\"] = data[\"hypothesis\"].apply(normalizer)\n",
        "\n",
        "\n",
        "# Show timestamped segments\n",
        "print(\"\\nTimestamped Segments:\")\n",
        "for seg in result['segments']:\n",
        "    print(f\"[{seg['start']:.2f}s - {seg['end']:.2f}s] {seg['text']}\")"
      ],
      "metadata": {
        "colab": {
          "base_uri": "https://localhost:8080/"
        },
        "id": "ezBdgPWOGfKF",
        "outputId": "8ed692f8-16e4-46d0-ddcd-4284ed681d3b"
      },
      "execution_count": 10,
      "outputs": [
        {
          "output_type": "stream",
          "name": "stdout",
          "text": [
            "\n",
            "Timestamped Segments:\n",
            "[5.06s - 12.02s]  I nie wiem, czy to błąd, że chcę je na chwilę, czy to w jedną stronę bilet, obawiam się, że tak\n",
            "[12.02s - 18.58s]  Nie wiem, czy coś ze mną jest nie tak, że chcę siedem dami, tak na końcu zostanę tu sam\n",
            "[18.58s - 25.06s]  I nie wiem, czy to błąd, że chcę ich aż tyle, ale nie, że pojedynczo, tylko wszystkie na rad\n",
            "[25.06s - 31.98s]  Nie wiem, czy coś ze mną jest nie tak, że chcę siedem dami, w mojej głowie mam najlepszy świat\n",
            "[33.32s - 36.80s]  Daj mi jedną szansę, ona mówi do mnie siedem dam, siebie dam\n",
            "[37.46s - 40.18s]  Ale ja nie chcę ciebie, tylko więcej szans, żeby żyć\n",
            "[40.18s - 43.46s]  Wymarzyłem sobie stan, którego nie spełnię, więc skupię nie mam na myśl\n",
            "[43.46s - 46.78s]  Nikt nie zabierze dostępu do marzeń, jestem w wiarze, projektuję sny\n",
            "[46.78s - 50.12s]  My chcemy żyć na poważnie, ej, nie chcemy się bawić, ej, ej\n",
            "[50.12s - 53.42s]  A zaraz chcemy się bawić, nas już nie da się naprawić, ej, ej\n",
            "[53.42s - 56.70s]  Cztery na cztery jest w aucie, siedem dami, ja sam paradoksalnie, ej\n",
            "[56.70s - 59.42s]  I jestem szczery najbardziej, trzymam plan, jakbym miał zaraz walkę\n",
            "[60.18s - 66.42s]  Nie chcę kłócić się, już nie chcę walczyć, czternaście dłoni na mnie i niech robią co chcą\n",
            "[67.14s - 73.34s]  I tak to tylko sen, w życiu inaczej jest, tam zawsze chciałem dla nich miły być festą\n",
            "[73.34s - 77.74s]  To nie chciały mnie, bo może to błąd był, ona nie lubił tych chłopiec za dobry\n",
            "[77.74s - 81.46s]  Książki mówiły, że lepszy jest zły, filmy to samo, lecz to już nie film, to życie\n",
            "[81.46s - 84.88s]  Ona nie muszą mnie kochać, już nawet na to nie liczę, ej, ej\n",
            "[84.88s - 87.10s]  Liczę na siebie i liczę ich siedem i w sumie to nie\n",
            "[87.10s - 93.12s]  Nie wiem czy to błąd, że chcę je na chwilę, czy to w jedną stronę bilet, obawiam się, że tak\n",
            "[93.12s - 99.66s]  Nie wiem czy coś ze mną jest nie tak, że chcę siedem dami, tak na końcu zostanę tu sam\n",
            "[99.66s - 106.32s]  I nie wiem czy to błąd, że chcę ich aż tyle, ale nie, że pojedynczo, tylko wszystkie na raz\n",
            "[106.32s - 112.68s]  Nie wiem czy coś ze mną jest nie tak, że chcę siedem dami, w mojej głowie mam najlepszy świat\n",
            "[112.68s - 119.60s]  I dalej nie wiem czy to błąd, że chcę je na chwilę, czy to w jedną stronę bilet, obawiam się, że tak\n",
            "[119.60s - 127.26s]  Nie wiem czy coś ze mną jest nie tak, że chcę siedem dami, tak na końcu zostanę tu sam\n",
            "[136.32s - 149.76s]  Nie wiem czy coś ze mną jest nie tak, że chcę siedem dami, w mojej głowie mam najlepszy świat\n",
            "[149.76s - 154.90s]  Nie wiem czy coś ze mną jest nie tak, że chcę siedem dami, w mojej głowie mam najlepszy świat\n"
          ]
        }
      ]
    }
  ],
  "metadata": {
    "accelerator": "GPU",
    "colab": {
      "provenance": []
    },
    "gpuClass": "standard",
    "kernelspec": {
      "display_name": "Python 3 (ipykernel)",
      "language": "python",
      "name": "python3"
    },
    "language_info": {
      "codemirror_mode": {
        "name": "ipython",
        "version": 3
      },
      "file_extension": ".py",
      "mimetype": "text/x-python",
      "name": "python",
      "nbconvert_exporter": "python",
      "pygments_lexer": "ipython3",
      "version": "3.9.9"
    }
  },
  "nbformat": 4,
  "nbformat_minor": 0
}